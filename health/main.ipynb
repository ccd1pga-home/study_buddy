{
 "cells": [
  {
   "cell_type": "code",
   "execution_count": null,
   "metadata": {},
   "outputs": [],
   "source": []
  },
  {
   "cell_type": "markdown",
   "metadata": {},
   "source": [
    "Trying to start from scratch, I have deleted all concections to GitHub and now I have created this folder as the only thing conected to Github. This is the file main.ipynb all the other files will be .py and so will this eventually, but for now I am more comfortable with this as I can add all the notes I need."
   ]
  }
 ],
 "metadata": {
  "language_info": {
   "name": "python"
  }
 },
 "nbformat": 4,
 "nbformat_minor": 2
}
